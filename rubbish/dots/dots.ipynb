{
    "cells": [
        {
            "cell_type": "code",
            "execution_count": 73,
            "source": [
                "import random\r\n",
                "import sys\r\n",
                "import time\r\n",
                "\r\n",
                "W = 100\r\n",
                "H = 100\r\n",
                "DIST = 10\r\n",
                "R = 1.2\r\n",
                "FG_COL = \"#FFF\"\r\n",
                "BG_COL = \"#000\"\r\n",
                "PADDING = 30\r\n",
                "\r\n",
                "SVG_BEGIN = '<?xml version=\"1.0\"?>\\n \\\r\n",
                "<svg xmlns=\"http://www.w3.org/2000/svg\" \\\r\n",
                "xmlns:xlink=\"http://www.w3.org/1999/xlink\"  \\\r\n",
                "width=\"' + str(W + PADDING * 2) + '\" height=\"' + str(H + PADDING * 2) + '\">\\n'\r\n",
                "\r\n",
                "SVG_BACKGROUND = '<rect width=\"' + str(W + PADDING * 2) + '\" height=\"' + \\\r\n",
                "    str(H + PADDING * 2) + '\" style=\"fill:' + BG_COL + '\" />\\n'\r\n",
                "\r\n",
                "SVG_END = '</svg>\\n'"
            ],
            "outputs": [],
            "metadata": {}
        },
        {
            "cell_type": "code",
            "execution_count": 74,
            "source": [
                "def ccw(A,B,C):\r\n",
                "    return (C[1]-A[1]) * (B[0]-A[0]) > (B[1]-A[1]) * (C[0]-A[0])\r\n",
                "\r\n",
                "# Return true if line segments AB and CD intersect\r\n",
                "def intersect(A,B,C,D):\r\n",
                "    return ccw(A,C,D) != ccw(B,C,D) and ccw(A,B,C) != ccw(A,B,D)"
            ],
            "outputs": [],
            "metadata": {}
        },
        {
            "cell_type": "code",
            "execution_count": 75,
            "source": [
                "def create():\r\n",
                "    svg = SVG_BEGIN + SVG_BACKGROUND\r\n",
                "\r\n",
                "    dots = []\r\n",
                "    cnt = 0\r\n",
                "    for i in range(PADDING + DIST // 2, W, DIST):\r\n",
                "        for j in range(PADDING + DIST // 2, H, DIST):\r\n",
                "            svg += '<circle cx=\"{}\" cy=\"{}\" r=\"{}\" fill=\"{}\" />\\n'.format(i, j, R, FG_COL)\r\n",
                "            dots.append((i, j))\r\n",
                "            cnt += 1\r\n",
                "    \r\n",
                "    lines = []\r\n",
                "    for a in dots:\r\n",
                "        b = random.choice(dots)\r\n",
                "        while (a[0]-b[0])**2 + (a[1]-b[1])**2 > DIST * 2:\r\n",
                "            b = random.choice(dots)\r\n",
                "\r\n",
                "        for line in lines:\r\n",
                "            if intersect(a, b, line[0], line[1]):\r\n",
                "                break\r\n",
                "        else:       \r\n",
                "            lines.append((a, b))\r\n",
                "        print(cnt)\r\n",
                "        cnt -= 1\r\n",
                "\r\n",
                "    for line in lines:\r\n",
                "        svg += '<line x1=\"{}\" y1=\"{}\" x2=\"{}\" y2=\"{}\" style=\"stroke:{};stroke-width:{}\" />'.format(line[0][0], line[0][1], line[1][0], line[1][1], FG_COL, R)\r\n",
                "\r\n",
                "    svg += SVG_END\r\n",
                "    return svg"
            ],
            "outputs": [],
            "metadata": {}
        },
        {
            "cell_type": "code",
            "execution_count": 76,
            "source": [
                "def save(svg, name):\r\n",
                "    with open(name, \"w\") as f:\r\n",
                "        f.write(svg)"
            ],
            "outputs": [],
            "metadata": {}
        },
        {
            "cell_type": "code",
            "execution_count": 77,
            "source": [
                "save(create(), \"output.svg\")"
            ],
            "outputs": [
                {
                    "output_type": "stream",
                    "name": "stdout",
                    "text": [
                        "49\n",
                        "48\n",
                        "47\n",
                        "46\n",
                        "45\n",
                        "44\n",
                        "43\n",
                        "42\n",
                        "41\n",
                        "40\n",
                        "39\n",
                        "38\n",
                        "37\n",
                        "36\n",
                        "35\n",
                        "34\n",
                        "33\n",
                        "32\n",
                        "31\n",
                        "30\n",
                        "29\n",
                        "28\n",
                        "27\n",
                        "26\n",
                        "25\n",
                        "24\n",
                        "23\n",
                        "22\n",
                        "21\n",
                        "20\n",
                        "19\n",
                        "18\n",
                        "17\n",
                        "16\n",
                        "15\n",
                        "14\n",
                        "13\n",
                        "12\n",
                        "11\n",
                        "10\n",
                        "9\n",
                        "8\n",
                        "7\n",
                        "6\n",
                        "5\n",
                        "4\n",
                        "3\n",
                        "2\n",
                        "1\n"
                    ]
                }
            ],
            "metadata": {}
        },
        {
            "cell_type": "code",
            "execution_count": null,
            "source": [],
            "outputs": [],
            "metadata": {}
        }
    ],
    "metadata": {
        "orig_nbformat": 4,
        "language_info": {
            "name": "python",
            "version": "3.8.5",
            "mimetype": "text/x-python",
            "codemirror_mode": {
                "name": "ipython",
                "version": 3
            },
            "pygments_lexer": "ipython3",
            "nbconvert_exporter": "python",
            "file_extension": ".py"
        },
        "kernelspec": {
            "name": "python3",
            "display_name": "Python 3.8.5 64-bit ('base': conda)"
        },
        "interpreter": {
            "hash": "1335e965be6b03b2ca3d5a2f6bc3b391d7255152bf81205b69b61607eef8f859"
        }
    },
    "nbformat": 4,
    "nbformat_minor": 2
}